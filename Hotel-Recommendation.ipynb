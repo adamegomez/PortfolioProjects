{
  "cells": [
    {
      "cell_type": "markdown",
      "metadata": {
        "id": "0rfGpyac6Q11"
      },
      "source": [
        "#**Data Preprocessing**"
      ]
    },
    {
      "cell_type": "code",
      "execution_count": null,
      "metadata": {
        "id": "l4saOaDT5j1Q"
      },
      "outputs": [],
      "source": [
        "import pandas as pd\n",
        "import numpy as np\n",
        "import re\n",
        "import nltk\n",
        "from nltk.tokenize import WordPunctTokenizer\n",
        "from nltk.corpus import stopwords\n",
        "from sklearn.feature_extraction.text import TfidfVectorizer\n",
        "from sklearn.metrics.pairwise import cosine_similarity"
      ]
    },
    {
      "cell_type": "code",
      "execution_count": null,
      "metadata": {
        "id": "7z57DjgD5k46"
      },
      "outputs": [],
      "source": [
        "df = pd.read_csv(\"Bali Hotel Review.csv\", skiprows=1)"
      ]
    },
    {
      "cell_type": "code",
      "execution_count": null,
      "metadata": {
        "colab": {
          "base_uri": "https://localhost:8080/",
          "height": 424
        },
        "id": "NgTMB_195rCU",
        "outputId": "ffe8de48-e826-4762-c052-394bf0b3e8c9"
      },
      "outputs": [
        {
          "data": {
            "text/html": [
              "\n",
              "  <div id=\"df-e71f65b0-08d4-43ff-8569-16f0de2930a3\" class=\"colab-df-container\">\n",
              "    <div>\n",
              "<style scoped>\n",
              "    .dataframe tbody tr th:only-of-type {\n",
              "        vertical-align: middle;\n",
              "    }\n",
              "\n",
              "    .dataframe tbody tr th {\n",
              "        vertical-align: top;\n",
              "    }\n",
              "\n",
              "    .dataframe thead th {\n",
              "        text-align: right;\n",
              "    }\n",
              "</style>\n",
              "<table border=\"1\" class=\"dataframe\">\n",
              "  <thead>\n",
              "    <tr style=\"text-align: right;\">\n",
              "      <th></th>\n",
              "      <th>Location</th>\n",
              "      <th>Hotel</th>\n",
              "      <th>UserID</th>\n",
              "      <th>Title</th>\n",
              "      <th>Review</th>\n",
              "      <th>Rating</th>\n",
              "      <th>Value</th>\n",
              "      <th>Accessibility</th>\n",
              "      <th>Service</th>\n",
              "      <th>Room</th>\n",
              "      <th>Cleanliness</th>\n",
              "      <th>Sleep Quality</th>\n",
              "    </tr>\n",
              "  </thead>\n",
              "  <tbody>\n",
              "    <tr>\n",
              "      <th>0</th>\n",
              "      <td>Legian Kuta Bali</td>\n",
              "      <td>Merccure Bali Legian</td>\n",
              "      <td>Barry Sloan</td>\n",
              "      <td>Nice Hotek</td>\n",
              "      <td>Check in was smooth although my room wasn’t re...</td>\n",
              "      <td>4</td>\n",
              "      <td>0.0</td>\n",
              "      <td>0.0</td>\n",
              "      <td>1.0</td>\n",
              "      <td>0.0</td>\n",
              "      <td>0.0</td>\n",
              "      <td>0.0</td>\n",
              "    </tr>\n",
              "    <tr>\n",
              "      <th>1</th>\n",
              "      <td>Legian Kuta Bali</td>\n",
              "      <td>Merccure Bali Legian</td>\n",
              "      <td>u4ianoosa</td>\n",
              "      <td>Perfect location, great Facilities</td>\n",
              "      <td>We thoroughly enjoyed our stay at Mercure Legi...</td>\n",
              "      <td>5</td>\n",
              "      <td>0.0</td>\n",
              "      <td>0.0</td>\n",
              "      <td>1.0</td>\n",
              "      <td>1.0</td>\n",
              "      <td>0.0</td>\n",
              "      <td>0.0</td>\n",
              "    </tr>\n",
              "    <tr>\n",
              "      <th>2</th>\n",
              "      <td>Legian Kuta Bali</td>\n",
              "      <td>Merccure Bali Legian</td>\n",
              "      <td>Phoenix G</td>\n",
              "      <td>A Fortnight at Mercure Legian Bali</td>\n",
              "      <td>Really the rating is 4.7 (I will attempt to ma...</td>\n",
              "      <td>5</td>\n",
              "      <td>0.0</td>\n",
              "      <td>1.0</td>\n",
              "      <td>1.0</td>\n",
              "      <td>0.0</td>\n",
              "      <td>0.0</td>\n",
              "      <td>0.0</td>\n",
              "    </tr>\n",
              "    <tr>\n",
              "      <th>3</th>\n",
              "      <td>Legian Kuta Bali</td>\n",
              "      <td>Merccure Bali Legian</td>\n",
              "      <td>Brenda</td>\n",
              "      <td>Best Bali Holiday</td>\n",
              "      <td>First time travelling to Bali with our 5 year ...</td>\n",
              "      <td>5</td>\n",
              "      <td>0.0</td>\n",
              "      <td>1.0</td>\n",
              "      <td>0.0</td>\n",
              "      <td>0.0</td>\n",
              "      <td>1.0</td>\n",
              "      <td>0.0</td>\n",
              "    </tr>\n",
              "    <tr>\n",
              "      <th>4</th>\n",
              "      <td>Legian Kuta Bali</td>\n",
              "      <td>Merccure Bali Legian</td>\n",
              "      <td>Sukhwinder K</td>\n",
              "      <td>Mrs</td>\n",
              "      <td>Very nice want to come back again, kids enjoye...</td>\n",
              "      <td>5</td>\n",
              "      <td>0.0</td>\n",
              "      <td>1.0</td>\n",
              "      <td>0.0</td>\n",
              "      <td>0.0</td>\n",
              "      <td>0.0</td>\n",
              "      <td>0.0</td>\n",
              "    </tr>\n",
              "    <tr>\n",
              "      <th>...</th>\n",
              "      <td>...</td>\n",
              "      <td>...</td>\n",
              "      <td>...</td>\n",
              "      <td>...</td>\n",
              "      <td>...</td>\n",
              "      <td>...</td>\n",
              "      <td>...</td>\n",
              "      <td>...</td>\n",
              "      <td>...</td>\n",
              "      <td>...</td>\n",
              "      <td>...</td>\n",
              "      <td>...</td>\n",
              "    </tr>\n",
              "    <tr>\n",
              "      <th>5793</th>\n",
              "      <td>Legian Kuta Bali</td>\n",
              "      <td>The Stones Hotel Legian Bali</td>\n",
              "      <td>Baldwin_Mr</td>\n",
              "      <td>A great experience!</td>\n",
              "      <td>This is a great hotel! , great food - particul...</td>\n",
              "      <td>5</td>\n",
              "      <td>0.0</td>\n",
              "      <td>1.0</td>\n",
              "      <td>0.0</td>\n",
              "      <td>1.0</td>\n",
              "      <td>0.0</td>\n",
              "      <td>0.0</td>\n",
              "    </tr>\n",
              "    <tr>\n",
              "      <th>5794</th>\n",
              "      <td>Legian Kuta Bali</td>\n",
              "      <td>The Stones Hotel Legian Bali</td>\n",
              "      <td>Eileen R</td>\n",
              "      <td>Great hotel!</td>\n",
              "      <td>My girlfriend and i had a fabulous time! Pool ...</td>\n",
              "      <td>5</td>\n",
              "      <td>0.0</td>\n",
              "      <td>1.0</td>\n",
              "      <td>0.0</td>\n",
              "      <td>0.0</td>\n",
              "      <td>0.0</td>\n",
              "      <td>0.0</td>\n",
              "    </tr>\n",
              "    <tr>\n",
              "      <th>5795</th>\n",
              "      <td>Legian Kuta Bali</td>\n",
              "      <td>The Stones Hotel Legian Bali</td>\n",
              "      <td>Bunnings8</td>\n",
              "      <td>Absolutely fantastic fantastic location</td>\n",
              "      <td>We found The Stones Hotel 5/5 from the moment ...</td>\n",
              "      <td>5</td>\n",
              "      <td>0.0</td>\n",
              "      <td>0.0</td>\n",
              "      <td>1.0</td>\n",
              "      <td>0.0</td>\n",
              "      <td>0.0</td>\n",
              "      <td>1.0</td>\n",
              "    </tr>\n",
              "    <tr>\n",
              "      <th>5796</th>\n",
              "      <td>Legian Kuta Bali</td>\n",
              "      <td>The Stones Hotel Legian Bali</td>\n",
              "      <td>degedz</td>\n",
              "      <td>Best time ever</td>\n",
              "      <td>We loved the stones Hotel , from the moment yo...</td>\n",
              "      <td>5</td>\n",
              "      <td>0.0</td>\n",
              "      <td>1.0</td>\n",
              "      <td>0.0</td>\n",
              "      <td>0.0</td>\n",
              "      <td>0.0</td>\n",
              "      <td>1.0</td>\n",
              "    </tr>\n",
              "    <tr>\n",
              "      <th>5797</th>\n",
              "      <td>Legian Kuta Bali</td>\n",
              "      <td>The Stones Hotel Legian Bali</td>\n",
              "      <td>Michelle</td>\n",
              "      <td>Beautiful property &amp; very friendly staff</td>\n",
              "      <td>This hotel was one of our favourites in Bali! ...</td>\n",
              "      <td>5</td>\n",
              "      <td>0.0</td>\n",
              "      <td>1.0</td>\n",
              "      <td>1.0</td>\n",
              "      <td>0.0</td>\n",
              "      <td>0.0</td>\n",
              "      <td>0.0</td>\n",
              "    </tr>\n",
              "  </tbody>\n",
              "</table>\n",
              "<p>5798 rows × 12 columns</p>\n",
              "</div>\n",
              "    <div class=\"colab-df-buttons\">\n",
              "\n",
              "  <div class=\"colab-df-container\">\n",
              "    <button class=\"colab-df-convert\" onclick=\"convertToInteractive('df-e71f65b0-08d4-43ff-8569-16f0de2930a3')\"\n",
              "            title=\"Convert this dataframe to an interactive table.\"\n",
              "            style=\"display:none;\">\n",
              "\n",
              "  <svg xmlns=\"http://www.w3.org/2000/svg\" height=\"24px\" viewBox=\"0 -960 960 960\">\n",
              "    <path d=\"M120-120v-720h720v720H120Zm60-500h600v-160H180v160Zm220 220h160v-160H400v160Zm0 220h160v-160H400v160ZM180-400h160v-160H180v160Zm440 0h160v-160H620v160ZM180-180h160v-160H180v160Zm440 0h160v-160H620v160Z\"/>\n",
              "  </svg>\n",
              "    </button>\n",
              "\n",
              "  <style>\n",
              "    .colab-df-container {\n",
              "      display:flex;\n",
              "      gap: 12px;\n",
              "    }\n",
              "\n",
              "    .colab-df-convert {\n",
              "      background-color: #E8F0FE;\n",
              "      border: none;\n",
              "      border-radius: 50%;\n",
              "      cursor: pointer;\n",
              "      display: none;\n",
              "      fill: #1967D2;\n",
              "      height: 32px;\n",
              "      padding: 0 0 0 0;\n",
              "      width: 32px;\n",
              "    }\n",
              "\n",
              "    .colab-df-convert:hover {\n",
              "      background-color: #E2EBFA;\n",
              "      box-shadow: 0px 1px 2px rgba(60, 64, 67, 0.3), 0px 1px 3px 1px rgba(60, 64, 67, 0.15);\n",
              "      fill: #174EA6;\n",
              "    }\n",
              "\n",
              "    .colab-df-buttons div {\n",
              "      margin-bottom: 4px;\n",
              "    }\n",
              "\n",
              "    [theme=dark] .colab-df-convert {\n",
              "      background-color: #3B4455;\n",
              "      fill: #D2E3FC;\n",
              "    }\n",
              "\n",
              "    [theme=dark] .colab-df-convert:hover {\n",
              "      background-color: #434B5C;\n",
              "      box-shadow: 0px 1px 3px 1px rgba(0, 0, 0, 0.15);\n",
              "      filter: drop-shadow(0px 1px 2px rgba(0, 0, 0, 0.3));\n",
              "      fill: #FFFFFF;\n",
              "    }\n",
              "  </style>\n",
              "\n",
              "    <script>\n",
              "      const buttonEl =\n",
              "        document.querySelector('#df-e71f65b0-08d4-43ff-8569-16f0de2930a3 button.colab-df-convert');\n",
              "      buttonEl.style.display =\n",
              "        google.colab.kernel.accessAllowed ? 'block' : 'none';\n",
              "\n",
              "      async function convertToInteractive(key) {\n",
              "        const element = document.querySelector('#df-e71f65b0-08d4-43ff-8569-16f0de2930a3');\n",
              "        const dataTable =\n",
              "          await google.colab.kernel.invokeFunction('convertToInteractive',\n",
              "                                                    [key], {});\n",
              "        if (!dataTable) return;\n",
              "\n",
              "        const docLinkHtml = 'Like what you see? Visit the ' +\n",
              "          '<a target=\"_blank\" href=https://colab.research.google.com/notebooks/data_table.ipynb>data table notebook</a>'\n",
              "          + ' to learn more about interactive tables.';\n",
              "        element.innerHTML = '';\n",
              "        dataTable['output_type'] = 'display_data';\n",
              "        await google.colab.output.renderOutput(dataTable, element);\n",
              "        const docLink = document.createElement('div');\n",
              "        docLink.innerHTML = docLinkHtml;\n",
              "        element.appendChild(docLink);\n",
              "      }\n",
              "    </script>\n",
              "  </div>\n",
              "\n",
              "\n",
              "<div id=\"df-c389d5ee-1e9b-47ee-92fc-e6b487cbb367\">\n",
              "  <button class=\"colab-df-quickchart\" onclick=\"quickchart('df-c389d5ee-1e9b-47ee-92fc-e6b487cbb367')\"\n",
              "            title=\"Suggest charts.\"\n",
              "            style=\"display:none;\">\n",
              "\n",
              "<svg xmlns=\"http://www.w3.org/2000/svg\" height=\"24px\"viewBox=\"0 0 24 24\"\n",
              "     width=\"24px\">\n",
              "    <g>\n",
              "        <path d=\"M19 3H5c-1.1 0-2 .9-2 2v14c0 1.1.9 2 2 2h14c1.1 0 2-.9 2-2V5c0-1.1-.9-2-2-2zM9 17H7v-7h2v7zm4 0h-2V7h2v10zm4 0h-2v-4h2v4z\"/>\n",
              "    </g>\n",
              "</svg>\n",
              "  </button>\n",
              "\n",
              "<style>\n",
              "  .colab-df-quickchart {\n",
              "      --bg-color: #E8F0FE;\n",
              "      --fill-color: #1967D2;\n",
              "      --hover-bg-color: #E2EBFA;\n",
              "      --hover-fill-color: #174EA6;\n",
              "      --disabled-fill-color: #AAA;\n",
              "      --disabled-bg-color: #DDD;\n",
              "  }\n",
              "\n",
              "  [theme=dark] .colab-df-quickchart {\n",
              "      --bg-color: #3B4455;\n",
              "      --fill-color: #D2E3FC;\n",
              "      --hover-bg-color: #434B5C;\n",
              "      --hover-fill-color: #FFFFFF;\n",
              "      --disabled-bg-color: #3B4455;\n",
              "      --disabled-fill-color: #666;\n",
              "  }\n",
              "\n",
              "  .colab-df-quickchart {\n",
              "    background-color: var(--bg-color);\n",
              "    border: none;\n",
              "    border-radius: 50%;\n",
              "    cursor: pointer;\n",
              "    display: none;\n",
              "    fill: var(--fill-color);\n",
              "    height: 32px;\n",
              "    padding: 0;\n",
              "    width: 32px;\n",
              "  }\n",
              "\n",
              "  .colab-df-quickchart:hover {\n",
              "    background-color: var(--hover-bg-color);\n",
              "    box-shadow: 0 1px 2px rgba(60, 64, 67, 0.3), 0 1px 3px 1px rgba(60, 64, 67, 0.15);\n",
              "    fill: var(--button-hover-fill-color);\n",
              "  }\n",
              "\n",
              "  .colab-df-quickchart-complete:disabled,\n",
              "  .colab-df-quickchart-complete:disabled:hover {\n",
              "    background-color: var(--disabled-bg-color);\n",
              "    fill: var(--disabled-fill-color);\n",
              "    box-shadow: none;\n",
              "  }\n",
              "\n",
              "  .colab-df-spinner {\n",
              "    border: 2px solid var(--fill-color);\n",
              "    border-color: transparent;\n",
              "    border-bottom-color: var(--fill-color);\n",
              "    animation:\n",
              "      spin 1s steps(1) infinite;\n",
              "  }\n",
              "\n",
              "  @keyframes spin {\n",
              "    0% {\n",
              "      border-color: transparent;\n",
              "      border-bottom-color: var(--fill-color);\n",
              "      border-left-color: var(--fill-color);\n",
              "    }\n",
              "    20% {\n",
              "      border-color: transparent;\n",
              "      border-left-color: var(--fill-color);\n",
              "      border-top-color: var(--fill-color);\n",
              "    }\n",
              "    30% {\n",
              "      border-color: transparent;\n",
              "      border-left-color: var(--fill-color);\n",
              "      border-top-color: var(--fill-color);\n",
              "      border-right-color: var(--fill-color);\n",
              "    }\n",
              "    40% {\n",
              "      border-color: transparent;\n",
              "      border-right-color: var(--fill-color);\n",
              "      border-top-color: var(--fill-color);\n",
              "    }\n",
              "    60% {\n",
              "      border-color: transparent;\n",
              "      border-right-color: var(--fill-color);\n",
              "    }\n",
              "    80% {\n",
              "      border-color: transparent;\n",
              "      border-right-color: var(--fill-color);\n",
              "      border-bottom-color: var(--fill-color);\n",
              "    }\n",
              "    90% {\n",
              "      border-color: transparent;\n",
              "      border-bottom-color: var(--fill-color);\n",
              "    }\n",
              "  }\n",
              "</style>\n",
              "\n",
              "  <script>\n",
              "    async function quickchart(key) {\n",
              "      const quickchartButtonEl =\n",
              "        document.querySelector('#' + key + ' button');\n",
              "      quickchartButtonEl.disabled = true;  // To prevent multiple clicks.\n",
              "      quickchartButtonEl.classList.add('colab-df-spinner');\n",
              "      try {\n",
              "        const charts = await google.colab.kernel.invokeFunction(\n",
              "            'suggestCharts', [key], {});\n",
              "      } catch (error) {\n",
              "        console.error('Error during call to suggestCharts:', error);\n",
              "      }\n",
              "      quickchartButtonEl.classList.remove('colab-df-spinner');\n",
              "      quickchartButtonEl.classList.add('colab-df-quickchart-complete');\n",
              "    }\n",
              "    (() => {\n",
              "      let quickchartButtonEl =\n",
              "        document.querySelector('#df-c389d5ee-1e9b-47ee-92fc-e6b487cbb367 button');\n",
              "      quickchartButtonEl.style.display =\n",
              "        google.colab.kernel.accessAllowed ? 'block' : 'none';\n",
              "    })();\n",
              "  </script>\n",
              "</div>\n",
              "    </div>\n",
              "  </div>\n"
            ],
            "text/plain": [
              "              Location                         Hotel        UserID  \\\n",
              "0     Legian Kuta Bali          Merccure Bali Legian   Barry Sloan   \n",
              "1     Legian Kuta Bali          Merccure Bali Legian     u4ianoosa   \n",
              "2     Legian Kuta Bali          Merccure Bali Legian     Phoenix G   \n",
              "3     Legian Kuta Bali          Merccure Bali Legian        Brenda   \n",
              "4     Legian Kuta Bali          Merccure Bali Legian  Sukhwinder K   \n",
              "...                ...                           ...           ...   \n",
              "5793  Legian Kuta Bali  The Stones Hotel Legian Bali    Baldwin_Mr   \n",
              "5794  Legian Kuta Bali  The Stones Hotel Legian Bali      Eileen R   \n",
              "5795  Legian Kuta Bali  The Stones Hotel Legian Bali     Bunnings8   \n",
              "5796  Legian Kuta Bali  The Stones Hotel Legian Bali        degedz   \n",
              "5797  Legian Kuta Bali  The Stones Hotel Legian Bali      Michelle   \n",
              "\n",
              "                                         Title  \\\n",
              "0                                   Nice Hotek   \n",
              "1           Perfect location, great Facilities   \n",
              "2           A Fortnight at Mercure Legian Bali   \n",
              "3                            Best Bali Holiday   \n",
              "4                                          Mrs   \n",
              "...                                        ...   \n",
              "5793                       A great experience!   \n",
              "5794                              Great hotel!   \n",
              "5795   Absolutely fantastic fantastic location   \n",
              "5796                            Best time ever   \n",
              "5797  Beautiful property & very friendly staff   \n",
              "\n",
              "                                                 Review  Rating  Value  \\\n",
              "0     Check in was smooth although my room wasn’t re...       4    0.0   \n",
              "1     We thoroughly enjoyed our stay at Mercure Legi...       5    0.0   \n",
              "2     Really the rating is 4.7 (I will attempt to ma...       5    0.0   \n",
              "3     First time travelling to Bali with our 5 year ...       5    0.0   \n",
              "4     Very nice want to come back again, kids enjoye...       5    0.0   \n",
              "...                                                 ...     ...    ...   \n",
              "5793  This is a great hotel! , great food - particul...       5    0.0   \n",
              "5794  My girlfriend and i had a fabulous time! Pool ...       5    0.0   \n",
              "5795  We found The Stones Hotel 5/5 from the moment ...       5    0.0   \n",
              "5796  We loved the stones Hotel , from the moment yo...       5    0.0   \n",
              "5797  This hotel was one of our favourites in Bali! ...       5    0.0   \n",
              "\n",
              "      Accessibility  Service  Room  Cleanliness  Sleep Quality  \n",
              "0               0.0      1.0   0.0          0.0            0.0  \n",
              "1               0.0      1.0   1.0          0.0            0.0  \n",
              "2               1.0      1.0   0.0          0.0            0.0  \n",
              "3               1.0      0.0   0.0          1.0            0.0  \n",
              "4               1.0      0.0   0.0          0.0            0.0  \n",
              "...             ...      ...   ...          ...            ...  \n",
              "5793            1.0      0.0   1.0          0.0            0.0  \n",
              "5794            1.0      0.0   0.0          0.0            0.0  \n",
              "5795            0.0      1.0   0.0          0.0            1.0  \n",
              "5796            1.0      0.0   0.0          0.0            1.0  \n",
              "5797            1.0      1.0   0.0          0.0            0.0  \n",
              "\n",
              "[5798 rows x 12 columns]"
            ]
          },
          "execution_count": 3,
          "metadata": {},
          "output_type": "execute_result"
        }
      ],
      "source": [
        "df"
      ]
    },
    {
      "cell_type": "code",
      "execution_count": null,
      "metadata": {
        "colab": {
          "base_uri": "https://localhost:8080/"
        },
        "id": "-n5O4zya6Z28",
        "outputId": "1462f02f-9101-4b24-ad85-3a3beaef97a7"
      },
      "outputs": [
        {
          "name": "stdout",
          "output_type": "stream",
          "text": [
            "<class 'pandas.core.frame.DataFrame'>\n",
            "RangeIndex: 5798 entries, 0 to 5797\n",
            "Data columns (total 12 columns):\n",
            " #   Column         Non-Null Count  Dtype  \n",
            "---  ------         --------------  -----  \n",
            " 0   Location       5798 non-null   object \n",
            " 1   Hotel          5798 non-null   object \n",
            " 2   UserID         5798 non-null   object \n",
            " 3   Title          5798 non-null   object \n",
            " 4   Review         5798 non-null   object \n",
            " 5   Rating         5798 non-null   int64  \n",
            " 6   Value          5787 non-null   float64\n",
            " 7   Accessibility  5786 non-null   float64\n",
            " 8   Service        5787 non-null   float64\n",
            " 9   Room           5787 non-null   float64\n",
            " 10  Cleanliness    5787 non-null   float64\n",
            " 11  Sleep Quality  5783 non-null   float64\n",
            "dtypes: float64(6), int64(1), object(5)\n",
            "memory usage: 543.7+ KB\n"
          ]
        }
      ],
      "source": [
        "df.info()"
      ]
    },
    {
      "cell_type": "markdown",
      "metadata": {
        "id": "EPwmHwzk6dlm"
      },
      "source": [
        "#**Normalize Array**"
      ]
    },
    {
      "cell_type": "code",
      "execution_count": null,
      "metadata": {
        "colab": {
          "base_uri": "https://localhost:8080/"
        },
        "id": "9orLtFUE50hI",
        "outputId": "c723a56e-f719-4af2-c5ee-f5e9df6a482b"
      },
      "outputs": [
        {
          "name": "stderr",
          "output_type": "stream",
          "text": [
            "[nltk_data] Downloading package stopwords to\n",
            "[nltk_data]     /Users/felenwu/nltk_data...\n",
            "[nltk_data]   Package stopwords is already up-to-date!\n"
          ]
        }
      ],
      "source": [
        "import nltk\n",
        "from nltk.corpus import stopwords\n",
        "nltk.download('stopwords')\n",
        "from nltk.tokenize import WordPunctTokenizer\n",
        "import re"
      ]
    },
    {
      "cell_type": "code",
      "execution_count": null,
      "metadata": {
        "id": "BYgu7xy85vyx"
      },
      "outputs": [],
      "source": [
        "# Define a tokenizer and stopwords\n",
        "wpt = WordPunctTokenizer()\n",
        "stop_words = set(stopwords.words('english'))"
      ]
    },
    {
      "cell_type": "code",
      "execution_count": null,
      "metadata": {
        "id": "LnAzvILY524x"
      },
      "outputs": [],
      "source": [
        "def normalize_document(doc):\n",
        "    doc = re.sub(r'[^a-zA-Z\\s]', '', doc, re.I|re.A)\n",
        "    doc = re.sub(r'\\W', ' ', doc)\n",
        "    doc = doc.lower()\n",
        "    doc = doc.strip()\n",
        "    tokens = wpt.tokenize(doc)\n",
        "    filtered_tokens = [token for token in tokens if token not in stop_words]\n",
        "    doc = ' '.join(filtered_tokens)\n",
        "    return doc"
      ]
    },
    {
      "cell_type": "code",
      "execution_count": null,
      "metadata": {
        "id": "-6RaXVDv53lz"
      },
      "outputs": [],
      "source": [
        "df['Normalized_Review'] = df['Review'].apply(normalize_document)"
      ]
    },
    {
      "cell_type": "code",
      "execution_count": null,
      "metadata": {
        "id": "ql7DfbHiFvGA",
        "outputId": "48d873c7-84a5-45b6-8151-b98ab5ae8f41"
      },
      "outputs": [
        {
          "data": {
            "text/plain": [
              "0       check smooth although room wasnt ready pm due ...\n",
              "1       thoroughly enjoyed stay mercure legian fantast...\n",
              "2       really rating attempt make review short mercur...\n",
              "3       first time travelling bali year old staying me...\n",
              "4       nice want come back kids enjoyed hotel facilit...\n",
              "                              ...                        \n",
              "5793    great hotel great food particularly breakfast ...\n",
              "5794    girlfriend fabulous time pool lovely great hap...\n",
              "5795    found stones hotel moment checked left helpful...\n",
              "5796    loved stones hotel moment walked welcomed pool...\n",
              "5797    hotel one favourites bali location great plent...\n",
              "Name: Normalized_Review, Length: 5798, dtype: object"
            ]
          },
          "execution_count": 19,
          "metadata": {},
          "output_type": "execute_result"
        }
      ],
      "source": [
        "df['Normalized_Review']"
      ]
    },
    {
      "cell_type": "code",
      "execution_count": null,
      "metadata": {
        "id": "QI4ZQMRCFvGA",
        "outputId": "8e2bf7af-6563-47d5-89ed-18bc7054bd42"
      },
      "outputs": [
        {
          "data": {
            "text/plain": [
              "pandas.core.series.Series"
            ]
          },
          "execution_count": 20,
          "metadata": {},
          "output_type": "execute_result"
        }
      ],
      "source": [
        "type(df['Normalized_Review'])"
      ]
    },
    {
      "cell_type": "code",
      "execution_count": null,
      "metadata": {
        "id": "dvln6lDoFvGA"
      },
      "outputs": [],
      "source": [
        "from sklearn.feature_extraction.text import CountVectorizer"
      ]
    },
    {
      "cell_type": "code",
      "execution_count": null,
      "metadata": {
        "id": "sJ0li2q_FvGB"
      },
      "outputs": [],
      "source": [
        "cv = CountVectorizer(min_df=0.2, max_df=0.9)"
      ]
    },
    {
      "cell_type": "code",
      "execution_count": null,
      "metadata": {
        "id": "u90YsiVrFvGB"
      },
      "outputs": [],
      "source": [
        "cv_matrix = cv.fit_transform(df['Normalized_Review'])"
      ]
    },
    {
      "cell_type": "code",
      "execution_count": null,
      "metadata": {
        "id": "5kpUtRUlFvGB",
        "outputId": "575ed95a-eeea-4d62-c6d7-f09b7731abe0"
      },
      "outputs": [
        {
          "name": "stdout",
          "output_type": "stream",
          "text": [
            "  (0, 12)\t3\n",
            "  (0, 7)\t2\n",
            "  (0, 14)\t1\n",
            "  (0, 5)\t1\n",
            "  (0, 13)\t1\n",
            "  (0, 2)\t1\n",
            "  (0, 6)\t2\n",
            "  (0, 9)\t1\n",
            "  (0, 15)\t1\n",
            "  (1, 12)\t2\n",
            "  (1, 15)\t3\n",
            "  (1, 8)\t1\n",
            "  (2, 12)\t1\n",
            "  (2, 7)\t1\n",
            "  (2, 14)\t2\n",
            "  (2, 13)\t1\n",
            "  (2, 15)\t1\n",
            "  (3, 12)\t1\n",
            "  (3, 7)\t2\n",
            "  (3, 14)\t1\n",
            "  (3, 9)\t1\n",
            "  (3, 0)\t1\n",
            "  (3, 11)\t2\n",
            "  (3, 3)\t2\n",
            "  (4, 14)\t1\n",
            "  :\t:\n",
            "  (5793, 4)\t1\n",
            "  (5793, 1)\t1\n",
            "  (5794, 7)\t2\n",
            "  (5794, 2)\t1\n",
            "  (5794, 9)\t1\n",
            "  (5794, 8)\t1\n",
            "  (5794, 11)\t1\n",
            "  (5795, 14)\t1\n",
            "  (5795, 2)\t2\n",
            "  (5795, 8)\t1\n",
            "  (5795, 11)\t1\n",
            "  (5796, 7)\t2\n",
            "  (5796, 14)\t2\n",
            "  (5796, 13)\t1\n",
            "  (5796, 2)\t1\n",
            "  (5796, 9)\t1\n",
            "  (5796, 8)\t2\n",
            "  (5796, 11)\t1\n",
            "  (5797, 7)\t1\n",
            "  (5797, 14)\t1\n",
            "  (5797, 5)\t1\n",
            "  (5797, 9)\t1\n",
            "  (5797, 15)\t3\n",
            "  (5797, 8)\t2\n",
            "  (5797, 0)\t1\n"
          ]
        }
      ],
      "source": [
        "print(cv_matrix)"
      ]
    },
    {
      "cell_type": "code",
      "execution_count": null,
      "metadata": {
        "id": "eNP6zFbJFvGB"
      },
      "outputs": [],
      "source": [
        "cv_matrix = cv_matrix.toarray()"
      ]
    },
    {
      "cell_type": "code",
      "execution_count": null,
      "metadata": {
        "id": "dkLsCUzhFvGC",
        "outputId": "5f8b8663-d36f-4092-d415-edbc2ab2a270"
      },
      "outputs": [
        {
          "data": {
            "text/plain": [
              "array([[0, 0, 1, ..., 1, 1, 0],\n",
              "       [0, 0, 0, ..., 0, 3, 0],\n",
              "       [0, 0, 0, ..., 2, 1, 0],\n",
              "       ...,\n",
              "       [0, 0, 2, ..., 1, 0, 0],\n",
              "       [0, 0, 1, ..., 2, 0, 0],\n",
              "       [1, 0, 0, ..., 1, 3, 0]])"
            ]
          },
          "execution_count": 41,
          "metadata": {},
          "output_type": "execute_result"
        }
      ],
      "source": [
        "cv_matrix"
      ]
    },
    {
      "cell_type": "code",
      "execution_count": null,
      "metadata": {
        "id": "t1sEsdq2FvGC"
      },
      "outputs": [],
      "source": [
        "keywords = cv.get_feature_names_out()"
      ]
    },
    {
      "cell_type": "code",
      "execution_count": null,
      "metadata": {
        "id": "RrR5qbY-FvGC",
        "outputId": "6b2dcc4d-76a1-4f3d-ea35-a6288115fc54"
      },
      "outputs": [
        {
          "data": {
            "text/plain": [
              "array(['bali', 'beach', 'breakfast', 'clean', 'food', 'friendly', 'good',\n",
              "       'great', 'hotel', 'location', 'nice', 'pool', 'room', 'rooms',\n",
              "       'staff', 'stay', 'stayed'], dtype=object)"
            ]
          },
          "execution_count": 43,
          "metadata": {},
          "output_type": "execute_result"
        }
      ],
      "source": [
        "keywords"
      ]
    },
    {
      "cell_type": "code",
      "execution_count": null,
      "metadata": {
        "id": "lTu_sWaJFvGC"
      },
      "outputs": [],
      "source": [
        "from sklearn.decomposition import LatentDirichletAllocation\n",
        "lda = LatentDirichletAllocation (n_components=17, max_iter=1000)\n",
        "dt_matrix=lda.fit_transform(cv_matrix)\n",
        "features = pd.DataFrame(dt_matrix,columns=keywords)"
      ]
    },
    {
      "cell_type": "code",
      "execution_count": null,
      "metadata": {
        "id": "5LP3WTSkFvGD",
        "outputId": "387e88e7-024c-4b38-83da-521b11de948b"
      },
      "outputs": [
        {
          "data": {
            "text/html": [
              "<div>\n",
              "<style scoped>\n",
              "    .dataframe tbody tr th:only-of-type {\n",
              "        vertical-align: middle;\n",
              "    }\n",
              "\n",
              "    .dataframe tbody tr th {\n",
              "        vertical-align: top;\n",
              "    }\n",
              "\n",
              "    .dataframe thead th {\n",
              "        text-align: right;\n",
              "    }\n",
              "</style>\n",
              "<table border=\"1\" class=\"dataframe\">\n",
              "  <thead>\n",
              "    <tr style=\"text-align: right;\">\n",
              "      <th></th>\n",
              "      <th>bali</th>\n",
              "      <th>beach</th>\n",
              "      <th>breakfast</th>\n",
              "      <th>clean</th>\n",
              "      <th>food</th>\n",
              "      <th>friendly</th>\n",
              "      <th>good</th>\n",
              "      <th>great</th>\n",
              "      <th>hotel</th>\n",
              "      <th>location</th>\n",
              "      <th>nice</th>\n",
              "      <th>pool</th>\n",
              "      <th>room</th>\n",
              "      <th>rooms</th>\n",
              "      <th>staff</th>\n",
              "      <th>stay</th>\n",
              "      <th>stayed</th>\n",
              "    </tr>\n",
              "  </thead>\n",
              "  <tbody>\n",
              "    <tr>\n",
              "      <th>0</th>\n",
              "      <td>0.004202</td>\n",
              "      <td>0.004202</td>\n",
              "      <td>0.075630</td>\n",
              "      <td>0.004202</td>\n",
              "      <td>0.004202</td>\n",
              "      <td>0.004202</td>\n",
              "      <td>0.004202</td>\n",
              "      <td>0.004202</td>\n",
              "      <td>0.147059</td>\n",
              "      <td>0.234822</td>\n",
              "      <td>0.004202</td>\n",
              "      <td>0.004202</td>\n",
              "      <td>0.240628</td>\n",
              "      <td>0.004202</td>\n",
              "      <td>0.251442</td>\n",
              "      <td>0.004202</td>\n",
              "      <td>0.004202</td>\n",
              "    </tr>\n",
              "    <tr>\n",
              "      <th>1</th>\n",
              "      <td>0.008403</td>\n",
              "      <td>0.008403</td>\n",
              "      <td>0.008403</td>\n",
              "      <td>0.008403</td>\n",
              "      <td>0.008403</td>\n",
              "      <td>0.008403</td>\n",
              "      <td>0.008403</td>\n",
              "      <td>0.008403</td>\n",
              "      <td>0.008403</td>\n",
              "      <td>0.008403</td>\n",
              "      <td>0.008403</td>\n",
              "      <td>0.008403</td>\n",
              "      <td>0.008403</td>\n",
              "      <td>0.008403</td>\n",
              "      <td>0.436975</td>\n",
              "      <td>0.436975</td>\n",
              "      <td>0.008403</td>\n",
              "    </tr>\n",
              "    <tr>\n",
              "      <th>2</th>\n",
              "      <td>0.008403</td>\n",
              "      <td>0.008403</td>\n",
              "      <td>0.151261</td>\n",
              "      <td>0.008403</td>\n",
              "      <td>0.008403</td>\n",
              "      <td>0.294118</td>\n",
              "      <td>0.008403</td>\n",
              "      <td>0.008403</td>\n",
              "      <td>0.151261</td>\n",
              "      <td>0.008403</td>\n",
              "      <td>0.008403</td>\n",
              "      <td>0.008403</td>\n",
              "      <td>0.008403</td>\n",
              "      <td>0.008403</td>\n",
              "      <td>0.151260</td>\n",
              "      <td>0.151261</td>\n",
              "      <td>0.008403</td>\n",
              "    </tr>\n",
              "    <tr>\n",
              "      <th>3</th>\n",
              "      <td>0.096257</td>\n",
              "      <td>0.005348</td>\n",
              "      <td>0.005348</td>\n",
              "      <td>0.187166</td>\n",
              "      <td>0.005348</td>\n",
              "      <td>0.096257</td>\n",
              "      <td>0.005348</td>\n",
              "      <td>0.005348</td>\n",
              "      <td>0.154169</td>\n",
              "      <td>0.005348</td>\n",
              "      <td>0.005348</td>\n",
              "      <td>0.005348</td>\n",
              "      <td>0.005348</td>\n",
              "      <td>0.278075</td>\n",
              "      <td>0.005348</td>\n",
              "      <td>0.005348</td>\n",
              "      <td>0.129254</td>\n",
              "    </tr>\n",
              "    <tr>\n",
              "      <th>4</th>\n",
              "      <td>0.228758</td>\n",
              "      <td>0.006536</td>\n",
              "      <td>0.006536</td>\n",
              "      <td>0.006536</td>\n",
              "      <td>0.006536</td>\n",
              "      <td>0.117647</td>\n",
              "      <td>0.006536</td>\n",
              "      <td>0.228758</td>\n",
              "      <td>0.006536</td>\n",
              "      <td>0.006536</td>\n",
              "      <td>0.158490</td>\n",
              "      <td>0.006536</td>\n",
              "      <td>0.006536</td>\n",
              "      <td>0.006536</td>\n",
              "      <td>0.006536</td>\n",
              "      <td>0.006536</td>\n",
              "      <td>0.187916</td>\n",
              "    </tr>\n",
              "    <tr>\n",
              "      <th>...</th>\n",
              "      <td>...</td>\n",
              "      <td>...</td>\n",
              "      <td>...</td>\n",
              "      <td>...</td>\n",
              "      <td>...</td>\n",
              "      <td>...</td>\n",
              "      <td>...</td>\n",
              "      <td>...</td>\n",
              "      <td>...</td>\n",
              "      <td>...</td>\n",
              "      <td>...</td>\n",
              "      <td>...</td>\n",
              "      <td>...</td>\n",
              "      <td>...</td>\n",
              "      <td>...</td>\n",
              "      <td>...</td>\n",
              "      <td>...</td>\n",
              "    </tr>\n",
              "    <tr>\n",
              "      <th>5793</th>\n",
              "      <td>0.006536</td>\n",
              "      <td>0.117647</td>\n",
              "      <td>0.006536</td>\n",
              "      <td>0.006536</td>\n",
              "      <td>0.006536</td>\n",
              "      <td>0.006536</td>\n",
              "      <td>0.117647</td>\n",
              "      <td>0.006536</td>\n",
              "      <td>0.006536</td>\n",
              "      <td>0.006536</td>\n",
              "      <td>0.006536</td>\n",
              "      <td>0.006536</td>\n",
              "      <td>0.006536</td>\n",
              "      <td>0.006536</td>\n",
              "      <td>0.254173</td>\n",
              "      <td>0.006536</td>\n",
              "      <td>0.425565</td>\n",
              "    </tr>\n",
              "    <tr>\n",
              "      <th>5794</th>\n",
              "      <td>0.008403</td>\n",
              "      <td>0.008403</td>\n",
              "      <td>0.008403</td>\n",
              "      <td>0.294118</td>\n",
              "      <td>0.008403</td>\n",
              "      <td>0.008403</td>\n",
              "      <td>0.008403</td>\n",
              "      <td>0.008403</td>\n",
              "      <td>0.008403</td>\n",
              "      <td>0.008403</td>\n",
              "      <td>0.008403</td>\n",
              "      <td>0.008403</td>\n",
              "      <td>0.008403</td>\n",
              "      <td>0.008403</td>\n",
              "      <td>0.008403</td>\n",
              "      <td>0.008403</td>\n",
              "      <td>0.579832</td>\n",
              "    </tr>\n",
              "    <tr>\n",
              "      <th>5795</th>\n",
              "      <td>0.009804</td>\n",
              "      <td>0.009804</td>\n",
              "      <td>0.009804</td>\n",
              "      <td>0.262953</td>\n",
              "      <td>0.009804</td>\n",
              "      <td>0.176471</td>\n",
              "      <td>0.009804</td>\n",
              "      <td>0.009804</td>\n",
              "      <td>0.009804</td>\n",
              "      <td>0.009804</td>\n",
              "      <td>0.423321</td>\n",
              "      <td>0.009804</td>\n",
              "      <td>0.009804</td>\n",
              "      <td>0.009804</td>\n",
              "      <td>0.009804</td>\n",
              "      <td>0.009804</td>\n",
              "      <td>0.009804</td>\n",
              "    </tr>\n",
              "    <tr>\n",
              "      <th>5796</th>\n",
              "      <td>0.005348</td>\n",
              "      <td>0.005348</td>\n",
              "      <td>0.109266</td>\n",
              "      <td>0.174157</td>\n",
              "      <td>0.005348</td>\n",
              "      <td>0.187166</td>\n",
              "      <td>0.005348</td>\n",
              "      <td>0.005348</td>\n",
              "      <td>0.005348</td>\n",
              "      <td>0.005348</td>\n",
              "      <td>0.005348</td>\n",
              "      <td>0.005348</td>\n",
              "      <td>0.005348</td>\n",
              "      <td>0.005348</td>\n",
              "      <td>0.005348</td>\n",
              "      <td>0.005348</td>\n",
              "      <td>0.459893</td>\n",
              "    </tr>\n",
              "    <tr>\n",
              "      <th>5797</th>\n",
              "      <td>0.096257</td>\n",
              "      <td>0.005348</td>\n",
              "      <td>0.005348</td>\n",
              "      <td>0.005348</td>\n",
              "      <td>0.005348</td>\n",
              "      <td>0.005348</td>\n",
              "      <td>0.005348</td>\n",
              "      <td>0.005348</td>\n",
              "      <td>0.005348</td>\n",
              "      <td>0.211941</td>\n",
              "      <td>0.005348</td>\n",
              "      <td>0.005348</td>\n",
              "      <td>0.005348</td>\n",
              "      <td>0.005348</td>\n",
              "      <td>0.005348</td>\n",
              "      <td>0.253300</td>\n",
              "      <td>0.368984</td>\n",
              "    </tr>\n",
              "  </tbody>\n",
              "</table>\n",
              "<p>5798 rows × 17 columns</p>\n",
              "</div>"
            ],
            "text/plain": [
              "          bali     beach  breakfast     clean      food  friendly      good  \\\n",
              "0     0.004202  0.004202   0.075630  0.004202  0.004202  0.004202  0.004202   \n",
              "1     0.008403  0.008403   0.008403  0.008403  0.008403  0.008403  0.008403   \n",
              "2     0.008403  0.008403   0.151261  0.008403  0.008403  0.294118  0.008403   \n",
              "3     0.096257  0.005348   0.005348  0.187166  0.005348  0.096257  0.005348   \n",
              "4     0.228758  0.006536   0.006536  0.006536  0.006536  0.117647  0.006536   \n",
              "...        ...       ...        ...       ...       ...       ...       ...   \n",
              "5793  0.006536  0.117647   0.006536  0.006536  0.006536  0.006536  0.117647   \n",
              "5794  0.008403  0.008403   0.008403  0.294118  0.008403  0.008403  0.008403   \n",
              "5795  0.009804  0.009804   0.009804  0.262953  0.009804  0.176471  0.009804   \n",
              "5796  0.005348  0.005348   0.109266  0.174157  0.005348  0.187166  0.005348   \n",
              "5797  0.096257  0.005348   0.005348  0.005348  0.005348  0.005348  0.005348   \n",
              "\n",
              "         great     hotel  location      nice      pool      room     rooms  \\\n",
              "0     0.004202  0.147059  0.234822  0.004202  0.004202  0.240628  0.004202   \n",
              "1     0.008403  0.008403  0.008403  0.008403  0.008403  0.008403  0.008403   \n",
              "2     0.008403  0.151261  0.008403  0.008403  0.008403  0.008403  0.008403   \n",
              "3     0.005348  0.154169  0.005348  0.005348  0.005348  0.005348  0.278075   \n",
              "4     0.228758  0.006536  0.006536  0.158490  0.006536  0.006536  0.006536   \n",
              "...        ...       ...       ...       ...       ...       ...       ...   \n",
              "5793  0.006536  0.006536  0.006536  0.006536  0.006536  0.006536  0.006536   \n",
              "5794  0.008403  0.008403  0.008403  0.008403  0.008403  0.008403  0.008403   \n",
              "5795  0.009804  0.009804  0.009804  0.423321  0.009804  0.009804  0.009804   \n",
              "5796  0.005348  0.005348  0.005348  0.005348  0.005348  0.005348  0.005348   \n",
              "5797  0.005348  0.005348  0.211941  0.005348  0.005348  0.005348  0.005348   \n",
              "\n",
              "         staff      stay    stayed  \n",
              "0     0.251442  0.004202  0.004202  \n",
              "1     0.436975  0.436975  0.008403  \n",
              "2     0.151260  0.151261  0.008403  \n",
              "3     0.005348  0.005348  0.129254  \n",
              "4     0.006536  0.006536  0.187916  \n",
              "...        ...       ...       ...  \n",
              "5793  0.254173  0.006536  0.425565  \n",
              "5794  0.008403  0.008403  0.579832  \n",
              "5795  0.009804  0.009804  0.009804  \n",
              "5796  0.005348  0.005348  0.459893  \n",
              "5797  0.005348  0.253300  0.368984  \n",
              "\n",
              "[5798 rows x 17 columns]"
            ]
          },
          "execution_count": 47,
          "metadata": {},
          "output_type": "execute_result"
        }
      ],
      "source": [
        "features"
      ]
    },
    {
      "cell_type": "code",
      "execution_count": null,
      "metadata": {
        "id": "yuLdjVMS55LZ"
      },
      "outputs": [],
      "source": [
        "user_keywords = ['beach', 'breakfast', 'clean', 'food', 'friendly', 'good',\n",
        "       'great', 'hotel', 'location', 'nice', 'pool', 'room', 'staff']"
      ]
    },
    {
      "cell_type": "code",
      "execution_count": null,
      "metadata": {
        "id": "2EJPb7b_5-3S"
      },
      "outputs": [],
      "source": [
        "normalized_keywords = normalize_document(\" \".join(user_keywords))"
      ]
    },
    {
      "cell_type": "code",
      "execution_count": null,
      "metadata": {
        "id": "CZwN-OJ_FvGD",
        "outputId": "17084d3f-b2bc-4902-98df-d27c21ccd11a"
      },
      "outputs": [
        {
          "data": {
            "text/plain": [
              "'beach breakfast clean food friendly good great hotel location nice pool room staff'"
            ]
          },
          "execution_count": 50,
          "metadata": {},
          "output_type": "execute_result"
        }
      ],
      "source": [
        "normalized_keywords"
      ]
    },
    {
      "cell_type": "markdown",
      "metadata": {
        "id": "SjzfpWC76jH7"
      },
      "source": [
        "#**TF-IDF Vectorizer**"
      ]
    },
    {
      "cell_type": "code",
      "execution_count": null,
      "metadata": {
        "id": "SfrtBRRf6AO_"
      },
      "outputs": [],
      "source": [
        "vectorizer = TfidfVectorizer()\n",
        "tfidf_matrix = vectorizer.fit_transform(df['Normalized_Review'] + [normalized_keywords])"
      ]
    },
    {
      "cell_type": "code",
      "execution_count": null,
      "metadata": {
        "id": "gD4VWVa9FvGE",
        "outputId": "1099dc08-04cf-4800-f40f-14c6dfe34c85"
      },
      "outputs": [
        {
          "name": "stdout",
          "output_type": "stream",
          "text": [
            "  (0, 6776)\t0.21988206190233858\n",
            "  (0, 9924)\t0.2275224784568052\n",
            "  (0, 13553)\t0.21988206190233858\n",
            "  (0, 4598)\t0.20911349958684197\n",
            "  (0, 10268)\t0.21988206190233858\n",
            "  (0, 9228)\t0.1758419410161595\n",
            "  (0, 11820)\t0.18477815322044977\n",
            "  (0, 725)\t0.16916739608588552\n",
            "  (0, 2181)\t0.16916739608588552\n",
            "  (0, 733)\t0.12701991714730201\n",
            "  (0, 4387)\t0.16465512529244888\n",
            "  (0, 13934)\t0.14979254559172964\n",
            "  (0, 7326)\t0.12622706595603797\n",
            "  (0, 13833)\t0.11059461952461819\n",
            "  (0, 5449)\t0.13234943834595905\n",
            "  (0, 9309)\t0.14311800066145566\n",
            "  (0, 12803)\t0.12141743832992125\n",
            "  (0, 1406)\t0.13068153793988652\n",
            "  (0, 8536)\t0.12933081250311165\n",
            "  (0, 4255)\t0.1193795005928354\n",
            "  (0, 4710)\t0.11679338471687999\n",
            "  (0, 13329)\t0.13660790543631549\n",
            "  (0, 7515)\t0.1336083727233512\n",
            "  (0, 4185)\t0.10408923785748553\n",
            "  (0, 4376)\t0.09492370711513239\n",
            "  :\t:\n",
            "  (0, 8601)\t0.07415880568017315\n",
            "  (0, 13651)\t0.09936042012638774\n",
            "  (0, 4939)\t0.14133487863204264\n",
            "  (0, 13341)\t0.23332798862575618\n",
            "  (0, 1055)\t0.06606858011713009\n",
            "  (0, 5762)\t0.1139404594759958\n",
            "  (0, 12721)\t0.07385808814134194\n",
            "  (0, 10370)\t0.08063379377194808\n",
            "  (0, 11212)\t0.11081231371496582\n",
            "  (0, 9948)\t0.14887034355965426\n",
            "  (0, 11657)\t0.10548279251630881\n",
            "  (0, 11872)\t0.16853828727123618\n",
            "  (0, 9338)\t0.02655854252352567\n",
            "  (0, 8314)\t0.02655854252352567\n",
            "  (0, 5991)\t0.07967562757057702\n",
            "  (0, 4861)\t0.02655854252352567\n",
            "  (0, 2357)\t0.02655854252352567\n",
            "  (0, 7274)\t0.05311708504705134\n",
            "  (0, 9278)\t0.10781808708607474\n",
            "  (0, 5334)\t0.02655854252352567\n",
            "  (0, 1666)\t0.02655854252352567\n",
            "  (0, 5018)\t0.05311708504705134\n",
            "  (0, 11782)\t0.05311708504705134\n",
            "  (0, 5420)\t0.05311708504705134\n",
            "  (0, 10580)\t0.02655854252352567\n"
          ]
        }
      ],
      "source": [
        "print(tfidf_matrix[-1])"
      ]
    },
    {
      "cell_type": "code",
      "execution_count": null,
      "metadata": {
        "id": "J2A4hdml6B2i"
      },
      "outputs": [],
      "source": [
        "# Calculate cosine similarity between user's keywords and hotel reviews\n",
        "cosine_similarities = cosine_similarity(tfidf_matrix[-1], tfidf_matrix[:-1])"
      ]
    },
    {
      "cell_type": "code",
      "execution_count": null,
      "metadata": {
        "id": "04yiwITlFvGE",
        "outputId": "2d551410-5f8f-46f6-d356-d0c857352aec"
      },
      "outputs": [
        {
          "data": {
            "text/plain": [
              "array([[0.03606249, 0.05870961, 0.05526489, ..., 0.08713313, 0.10397657,\n",
              "        0.24227884]])"
            ]
          },
          "execution_count": 87,
          "metadata": {},
          "output_type": "execute_result"
        }
      ],
      "source": [
        "cosine_similarities"
      ]
    },
    {
      "cell_type": "code",
      "execution_count": null,
      "metadata": {
        "id": "IOgQX8Yf6DXn"
      },
      "outputs": [],
      "source": [
        "# Get the indices of hotels sorted by cosine similarity\n",
        "similar_hotel_indices = cosine_similarities.argsort()[0][::-1]"
      ]
    },
    {
      "cell_type": "code",
      "execution_count": null,
      "metadata": {
        "id": "I0wX8sRkFvGE"
      },
      "outputs": [],
      "source": [
        "recommended_hotels = [df['Hotel'].iloc[idx] for idx in similar_hotel_indices]"
      ]
    },
    {
      "cell_type": "code",
      "execution_count": null,
      "metadata": {
        "id": "6X43L81tFvGF"
      },
      "outputs": [],
      "source": [
        "unique_recommended_hotels = set()"
      ]
    },
    {
      "cell_type": "code",
      "execution_count": null,
      "metadata": {
        "id": "Wtq86KOtFvGF"
      },
      "outputs": [],
      "source": [
        "for hotel in recommended_hotels:\n",
        "    unique_recommended_hotels.add(hotel)"
      ]
    },
    {
      "cell_type": "code",
      "execution_count": null,
      "metadata": {
        "id": "gmmitSM2FvGG"
      },
      "outputs": [],
      "source": [
        "unique_recommended_hotels = list(unique_recommended_hotels)"
      ]
    },
    {
      "cell_type": "code",
      "execution_count": null,
      "metadata": {
        "id": "nDpDSJ24FvGG",
        "outputId": "431eaa71-32f8-4e91-b9cc-4458fdbc17ae"
      },
      "outputs": [
        {
          "name": "stdout",
          "output_type": "stream",
          "text": [
            "Anantara Uluwatu Bali Resort\n",
            "The Anvaya Beach Resort\n",
            "The Stones Hotel Legian Bali\n",
            "Radisson Blu Resort Bali Uluwatu\n",
            "The Apurva Kempinski\n"
          ]
        }
      ],
      "source": [
        "for i, hotel in enumerate(unique_recommended_hotels):\n",
        "    if i < 5:\n",
        "        print(hotel)"
      ]
    }
  ],
  "metadata": {
    "colab": {
      "provenance": []
    },
    "kernelspec": {
      "display_name": "Python 3 (ipykernel)",
      "language": "python",
      "name": "python3"
    },
    "language_info": {
      "codemirror_mode": {
        "name": "ipython",
        "version": 3
      },
      "file_extension": ".py",
      "mimetype": "text/x-python",
      "name": "python",
      "nbconvert_exporter": "python",
      "pygments_lexer": "ipython3",
      "version": "3.11.4"
    }
  },
  "nbformat": 4,
  "nbformat_minor": 0
}
